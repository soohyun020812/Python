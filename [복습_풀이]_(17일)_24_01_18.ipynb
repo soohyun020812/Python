{
  "nbformat": 4,
  "nbformat_minor": 0,
  "metadata": {
    "colab": {
      "provenance": []
    },
    "kernelspec": {
      "name": "python3",
      "display_name": "Python 3"
    },
    "language_info": {
      "name": "python"
    }
  },
  "cells": [
    {
      "cell_type": "markdown",
      "source": [
        "**1. 데코레이터 문제:**\n",
        "\n",
        "1부터 100까지 더하는 함수를 만들고 이 함수에 데코레이터를 실행시켜 몇 초가 걸리는지 확인해주세요. 아래 힌트 코드 입니다.\n",
        "\n",
        "    import time\n",
        "    def time_decorator(func):\n",
        "        def wrapper():\n",
        "            start_time = time.time()\n",
        "            result = func()\n",
        "            end_time = time.time()\n",
        "            print(f\"함수가 {end_time - start_time} 초가 걸렸습니다.\")\n",
        "            return result\n",
        "        return wrapper\n",
        "\n",
        "**2. 제너레이터 문제:**\n",
        "\n",
        "0부터 시작하여, 매 호출 시마다 2씩 증가하는 값을 반환하는 제너레이터 함수를 작성하세요. 100이 되면 멈춰야 합니다.\n",
        "\n",
        "    for i in gen():\n",
        "        print(i)\n",
        "\n",
        "**3. 예외처리 문제:**\n",
        "\n",
        "사용자로부터 두 개의 숫자를 입력받아 나눗셈을 수행하는 함수를 작성하세요. 이 때 0으로 나눌 때에는 예외처리를 해주세요.\n",
        "\n",
        "    def divide(x, y):\n",
        "        return x / y"
      ],
      "metadata": {
        "id": "-tE4EytHMccC"
      }
    },
    {
      "cell_type": "code",
      "execution_count": null,
      "metadata": {
        "colab": {
          "base_uri": "https://localhost:8080/"
        },
        "id": "4heRNUDJ3VP4",
        "outputId": "fad468ac-305e-475c-d73c-804331201a2e"
      },
      "outputs": [
        {
          "output_type": "stream",
          "name": "stdout",
          "text": [
            "함수가 1.3589859008789062e-05 초가 걸렸습니다.\n"
          ]
        },
        {
          "output_type": "execute_result",
          "data": {
            "text/plain": [
              "5050"
            ]
          },
          "metadata": {},
          "execution_count": 1
        }
      ],
      "source": [
        " # 1번 답 (1)\n",
        "\n",
        " import time\n",
        "\n",
        " def time_decorator(func):\n",
        "     def wrapper(input_data):\n",
        "         start_time = time.time()\n",
        "         result = func(input_data)\n",
        "         end_time = time.time()\n",
        "         print(f\"함수가 {end_time - start_time} 초가 걸렸습니다.\")\n",
        "         return result\n",
        "     return wrapper\n",
        "\n",
        "@time_decorator\n",
        "def f(data):\n",
        "    s = 0\n",
        "    for i in range(data+1):\n",
        "        s += i\n",
        "    return s\n",
        "\n",
        "f(100)"
      ]
    },
    {
      "cell_type": "code",
      "source": [
        " # 1번 답 (2)\n",
        "\n",
        " import time\n",
        "\n",
        " def time_decorator(func):\n",
        "     def wrapper():\n",
        "         start_time = time.time()\n",
        "         result = func()\n",
        "         end_time = time.time()\n",
        "         print(f\"함수가 {end_time - start_time} 초가 걸렸습니다.\")\n",
        "         return result\n",
        "     return wrapper\n",
        "\n",
        "@time_decorator\n",
        "def f():\n",
        "    s = 0\n",
        "    for i in range(101):\n",
        "        s += i\n",
        "    return s\n",
        "\n",
        "f()"
      ],
      "metadata": {
        "colab": {
          "base_uri": "https://localhost:8080/"
        },
        "id": "csNQP5d_5kNO",
        "outputId": "983d1778-cf57-4e6e-c050-d53f0fdfb712"
      },
      "execution_count": null,
      "outputs": [
        {
          "output_type": "stream",
          "name": "stdout",
          "text": [
            "함수가 1.4066696166992188e-05 초가 걸렸습니다.\n"
          ]
        },
        {
          "output_type": "execute_result",
          "data": {
            "text/plain": [
              "5050"
            ]
          },
          "metadata": {},
          "execution_count": 2
        }
      ]
    },
    {
      "cell_type": "code",
      "source": [
        "# 2번 답\n",
        "\n",
        "def gen():\n",
        "    for i in range(0, 101, 2):\n",
        "        yield i\n",
        "    return\n",
        "\n",
        "# for i in gen():\n",
        "#     print(i)\n",
        "\n",
        "list(zip('hello world', gen()))"
      ],
      "metadata": {
        "colab": {
          "base_uri": "https://localhost:8080/"
        },
        "id": "XTcMSmpC6QmT",
        "outputId": "b8a8b1a9-b7f2-43c2-b9e3-8a6fa172d5ad"
      },
      "execution_count": null,
      "outputs": [
        {
          "output_type": "execute_result",
          "data": {
            "text/plain": [
              "[('h', 0),\n",
              " ('e', 2),\n",
              " ('l', 4),\n",
              " ('l', 6),\n",
              " ('o', 8),\n",
              " (' ', 10),\n",
              " ('w', 12),\n",
              " ('o', 14),\n",
              " ('r', 16),\n",
              " ('l', 18),\n",
              " ('d', 20)]"
            ]
          },
          "metadata": {},
          "execution_count": 3
        }
      ]
    },
    {
      "cell_type": "code",
      "source": [
        "# 3번 답 (예외처리)\n",
        "# 문제: 사용자로부터 두 개의 숫자를 입력받아 나눗셈을 수행하는 함수를 작성하세요.\n",
        "# = 이 때 0으로 나눌 때에는 예외처리를 해주세요.\n",
        "\n",
        "def divide(x, y):\n",
        "    try:\n",
        "        return x / y\n",
        "    except:\n",
        "        return 0\n",
        "\n",
        "divide(1, 0)"
      ],
      "metadata": {
        "colab": {
          "base_uri": "https://localhost:8080/"
        },
        "id": "-y9Ed9pv7M7s",
        "outputId": "8b3e3c9d-c8d2-4bcf-dd6d-ea1bcc1b5e89"
      },
      "execution_count": null,
      "outputs": [
        {
          "output_type": "execute_result",
          "data": {
            "text/plain": [
              "0"
            ]
          },
          "metadata": {},
          "execution_count": 4
        }
      ]
    },
    {
      "cell_type": "code",
      "source": [],
      "metadata": {
        "id": "4kO8lpMivkZy"
      },
      "execution_count": null,
      "outputs": []
    }
  ]
}