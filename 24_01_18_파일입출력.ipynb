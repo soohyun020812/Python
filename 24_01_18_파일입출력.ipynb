{
  "nbformat": 4,
  "nbformat_minor": 0,
  "metadata": {
    "colab": {
      "provenance": []
    },
    "kernelspec": {
      "name": "python3",
      "display_name": "Python 3"
    },
    "language_info": {
      "name": "python"
    }
  },
  "cells": [
    {
      "cell_type": "markdown",
      "source": [
        "### 파이썬 버전별 변동사항\n",
        "\n",
        "    Python 3.5: async await\n",
        "    Python 3.6: Dict에 순서, f-string, 타입힌트\n",
        "    Python 3.7: dataclasses\n",
        "    Python 3.8: 왈러스 연산자(:=)\n",
        "    Python 3.9: 딕셔너리 결합 연산자(|)\n",
        "    Python 3.10: match"
      ],
      "metadata": {
        "id": "dvmGRVTl-e_Q"
      }
    },
    {
      "cell_type": "code",
      "source": [
        "# id, name, email이 각각 3번씩 반복\n",
        "# -> 이러한 현상을 보일러 플레이트(boiler-plate)라 함\n",
        "# -> print를 해도 필드값이 보이지 않아 불편\n",
        "\n",
        "class User:\n",
        "    def __init__(self, id, name, email):\n",
        "        self.id = id\n",
        "        self.name = name\n",
        "        self.email = email"
      ],
      "metadata": {
        "id": "OCqF6Fc1_Kq4"
      },
      "execution_count": null,
      "outputs": []
    },
    {
      "cell_type": "code",
      "source": [
        "from dataclasses import dataclass\n",
        "\n",
        "@dataclass\n",
        "class User:\n",
        "    id: int\n",
        "    name: str\n",
        "    email : str\n",
        "\n",
        "user = User(123, 'hojun', 'hojun@gmail')\n",
        "user"
      ],
      "metadata": {
        "colab": {
          "base_uri": "https://localhost:8080/"
        },
        "id": "IGPTaQwL_ESi",
        "outputId": "a4db53cd-a1f1-4dfd-b8b2-ae9fde63e738"
      },
      "execution_count": null,
      "outputs": [
        {
          "output_type": "execute_result",
          "data": {
            "text/plain": [
              "User(id=123, name='hojun', email='hojun@gmail')"
            ]
          },
          "metadata": {},
          "execution_count": 2
        }
      ]
    },
    {
      "cell_type": "code",
      "source": [
        "x = {\"key1\": \"value1\"}\n",
        "y = {\"key2\": \"value2\"}\n",
        "z = x | y\n",
        "z"
      ],
      "metadata": {
        "colab": {
          "base_uri": "https://localhost:8080/"
        },
        "id": "AkE_pPQY_awb",
        "outputId": "48edc4b0-c00a-4f77-8c9a-c3a5ad3ba581"
      },
      "execution_count": null,
      "outputs": [
        {
          "output_type": "execute_result",
          "data": {
            "text/plain": [
              "{'key1': 'value1', 'key2': 'value2'}"
            ]
          },
          "metadata": {},
          "execution_count": 3
        }
      ]
    },
    {
      "cell_type": "markdown",
      "source": [
        "### 파일 입출력"
      ],
      "metadata": {
        "id": "t5HUw9iVANjV"
      }
    },
    {
      "cell_type": "markdown",
      "source": [
        "- **`'r'`**: 읽기 모드. 파일을 읽기만 할 때 사용합니다. 파일이 존재하지 않으면 오류가 발생합니다.\n",
        "- **`'w'`**: 쓰기 모드. 파일에 쓸 때 사용합니다. 파일이 이미 존재하면 내용을 지우고 새로 쓰기 시작합니다. 파일이 존재하지 않으면 새로운 파일을 생성합니다.\n",
        "- **`'a'`**: 추가 모드. 파일의 마지막에 새로운 내용을 추가할 때 사용합니다. 파일이 존재하지 않으면 새로운 파일을 생성합니다.\n",
        "- **`'r+'`**: 읽기와 쓰기 모드. 파일을 열 때 기존의 내용을 보존합니다. 파일을 열 때 포인터가 가장 앞에 있습니다.\n",
        "- **`'w+'`**: 읽기와 쓰기 모드. 파일을 열 때 기존의 내용을 삭제합니다. 다만 열어서 쓴 내용은 읽을 수 있습니다.\n",
        "- **`'a+'`**: 읽기와 추가 모드. 파일을 열 때 포인터가 가장 뒤에 가 있습니다."
      ],
      "metadata": {
        "id": "Q4nj-eDKdcbU"
      }
    },
    {
      "cell_type": "code",
      "source": [
        "# open(파일이름, 파일모드)\n",
        "\n",
        "f = open('python.txt', 'w') # 파일모드 : r, w, a, r+,\n",
        "f.close()"
      ],
      "metadata": {
        "id": "i82vKbAcAPQJ"
      },
      "execution_count": null,
      "outputs": []
    },
    {
      "cell_type": "code",
      "source": [
        "# 파일은 열었으면 꼭 닫아야 함\n",
        "# 닫지 않으면 메모리가 살아있음\n",
        "\n",
        "f = open('python.txt', 'w') # 파일모드 : r, w, a, r+,\n",
        "f.write('hello world')\n",
        "f.close()"
      ],
      "metadata": {
        "id": "UH2xtnlYAoYC"
      },
      "execution_count": null,
      "outputs": []
    },
    {
      "cell_type": "code",
      "source": [
        "with open('test.txt', 'w') as f:\n",
        "    f.write('hello world!')"
      ],
      "metadata": {
        "id": "ZigNOOi_AseQ"
      },
      "execution_count": null,
      "outputs": []
    },
    {
      "cell_type": "code",
      "source": [
        "for i in range(10):\n",
        "    with open(f'test{i}.txt', 'w') as f:\n",
        "        f.write('hello world!')"
      ],
      "metadata": {
        "id": "SjsHo8ceBF5t"
      },
      "execution_count": null,
      "outputs": []
    },
    {
      "cell_type": "code",
      "source": [
        "db_data = [\n",
        "  {\n",
        "    \"_id\": \"7f5440ab-7e2f-4a42-Be13-89987fa65b32\",\n",
        "    \"index\": \"1\",\n",
        "    \"name\": \"등윤상\",\n",
        "    \"email\": \"user-qe89s09@ut.io\",\n",
        "    \"phone\": \"010-3542-7711\",\n",
        "    \"country\": \"키리바시\",\n",
        "    \"address\": \"방학로 74-9\",\n",
        "    \"job\": \"일러스트레이터\"\n",
        "  },\n",
        "  {\n",
        "    \"_id\": \"b4f7ade0-38bb-4e6f-B94a-18af1426eb30\",\n",
        "    \"index\": \"2\",\n",
        "    \"name\": \"노동규\",\n",
        "    \"email\": \"user-nyr5mqw@ornare.com\",\n",
        "    \"phone\": \"010-9743-6320\",\n",
        "    \"country\": \"베냉\",\n",
        "    \"address\": \"남부순환로 54-6\",\n",
        "    \"job\": \"애완동물미용사\"\n",
        "  },\n",
        "  {\n",
        "    \"_id\": \"5d788255-8d5e-4f03-B446-dbac6a147e37\",\n",
        "    \"index\": \"3\",\n",
        "    \"name\": \"경진아\",\n",
        "    \"email\": \"user-n7pey4v@Etiam.biz\",\n",
        "    \"phone\": \"010-4049-8718\",\n",
        "    \"country\": \"아르메니아\",\n",
        "    \"address\": \"강남대로 87-5\",\n",
        "    \"job\": \"플로리스트\"\n",
        "  },\n",
        "  {\n",
        "    \"_id\": \"083efce4-17ed-4e9f-Ad7c-f9aa0ac6cb79\",\n",
        "    \"index\": \"4\",\n",
        "    \"name\": \"복소유\",\n",
        "    \"email\": \"user-ohaz2is@nibh.biz\",\n",
        "    \"phone\": \"010-3400-5945\",\n",
        "    \"country\": \"페루\",\n",
        "    \"address\": \"양산로 78-1\",\n",
        "    \"job\": \"응급구조사\"\n",
        "  },\n",
        "  {\n",
        "    \"_id\": \"d54ce0fa-c025-4af6-Cd9a-b9d10aa8be5a\",\n",
        "    \"index\": \"5\",\n",
        "    \"name\": \"화예빈\",\n",
        "    \"email\": \"user-mnkpdlp@vel.net\",\n",
        "    \"phone\": \"010-3120-8720\",\n",
        "    \"country\": \"허드 및 맥도널드 제도\",\n",
        "    \"address\": \"한남대로 6-2\",\n",
        "    \"job\": \"전문의사\"\n",
        "  }\n",
        "]"
      ],
      "metadata": {
        "id": "cXjqs5ryBnGB"
      },
      "execution_count": null,
      "outputs": []
    },
    {
      "cell_type": "markdown",
      "source": [
        "`미션 1`\n",
        "    \n",
        "    각각의 회원 이름_info.txt로 각각 정보 정리\n",
        "\n",
        "`미션 2`\n",
        "\n",
        "    엑셀로 각각 정보 정리\n",
        "\n",
        "`미션 3`\n",
        "\n",
        "    html로 table로 정리하기 => table 클릭하면 정렬되게 하기"
      ],
      "metadata": {
        "id": "7aEQs14aBxnR"
      }
    },
    {
      "cell_type": "code",
      "source": [
        "# 미션 1\n",
        "# 각각의 회원 이름_info.txt로 각각 정보 정리\n",
        "\n",
        "list(map(lambda x: x['name'], db_data))\n",
        "\n",
        "for i, name in enumerate(map(lambda x: x['name'], db_data)):\n",
        "    with open(f'{name}_info.txt', 'w') as f:\n",
        "        f.write(str(db_data[i]))"
      ],
      "metadata": {
        "id": "LtNe4-kZDaVK"
      },
      "execution_count": null,
      "outputs": []
    },
    {
      "cell_type": "code",
      "source": [
        "from bs4 import BeautifulSoup\n",
        "import json\n",
        "\n",
        "soup = BeautifulSoup(str(db_data), 'html.parser')\n",
        "# json_data = json.loads(soup.text)\n",
        "# json_data"
      ],
      "metadata": {
        "id": "vjSpvpYTHYCJ"
      },
      "execution_count": null,
      "outputs": []
    },
    {
      "cell_type": "code",
      "source": [
        "# 미션 2\n",
        "# 엑셀로 각각 정보 정리\n",
        "\n",
        "# \"_id\": \"d54ce0fa-c025-4af6-Cd9a-b9d10aa8be5a\",\n",
        "# \"index\": \"5\",\n",
        "# \"name\": \"화예빈\",\n",
        "# \"email\": \"user-mnkpdlp@vel.net\",\n",
        "# \"phone\": \"010-3120-8720\",\n",
        "# \"country\": \"허드 및 맥도널드 제도\",\n",
        "# \"address\": \"한남대로 6-2\",\n",
        "# \"job\": \"전문의사\"\n",
        "\n",
        "with open('data.csv', 'w') as f:\n",
        "    s = '아이디,인덱스,이름,이메일,휴대폰,나라,주소,직업\\n'\n",
        "    for i in db_data:\n",
        "        s += f'{i[\"_id\"]},{i[\"index\"]},{i[\"name\"]},{i[\"email\"]},{i[\"phone\"]},{i[\"country\"]},{i[\"address\"]},{i[\"job\"]}\\n'\n",
        "    f.write(s)"
      ],
      "metadata": {
        "id": "2pbk1S9XHvLH"
      },
      "execution_count": null,
      "outputs": []
    },
    {
      "cell_type": "code",
      "source": [
        "!pip3 install xlsxwriter"
      ],
      "metadata": {
        "colab": {
          "base_uri": "https://localhost:8080/"
        },
        "id": "rV5r2t9UJOHl",
        "outputId": "683ab9cb-66e9-40d9-aaab-56ed6dcebd44"
      },
      "execution_count": null,
      "outputs": [
        {
          "output_type": "stream",
          "name": "stdout",
          "text": [
            "Collecting xlsxwriter\n",
            "  Downloading XlsxWriter-3.1.9-py3-none-any.whl (154 kB)\n",
            "\u001b[?25l     \u001b[90m━━━━━━━━━━━━━━━━━━━━━━━━━━━━━━━━━━━━━━━━\u001b[0m \u001b[32m0.0/154.8 kB\u001b[0m \u001b[31m?\u001b[0m eta \u001b[36m-:--:--\u001b[0m\r\u001b[2K     \u001b[91m━━━━━━━━━━━━━━━━━━━━━\u001b[0m\u001b[90m╺\u001b[0m\u001b[90m━━━━━━━━━━━━━━━━━━\u001b[0m \u001b[32m81.9/154.8 kB\u001b[0m \u001b[31m2.4 MB/s\u001b[0m eta \u001b[36m0:00:01\u001b[0m\r\u001b[2K     \u001b[90m━━━━━━━━━━━━━━━━━━━━━━━━━━━━━━━━━━━━━━━━\u001b[0m \u001b[32m154.8/154.8 kB\u001b[0m \u001b[31m3.2 MB/s\u001b[0m eta \u001b[36m0:00:00\u001b[0m\n",
            "\u001b[?25hInstalling collected packages: xlsxwriter\n",
            "Successfully installed xlsxwriter-3.1.9\n"
          ]
        }
      ]
    },
    {
      "cell_type": "code",
      "source": [
        "# request나 bs4 기본 모듈 아닌데 colab에 깔려 있는 것\n",
        "# 데스크톱에서 깔려있는지 확인하시지 않고 실행시키면 모듈이 없다고 나옴"
      ],
      "metadata": {
        "id": "dkLiYjg3Jb5K"
      },
      "execution_count": null,
      "outputs": []
    },
    {
      "cell_type": "code",
      "source": [
        "# 워크북(엑셀파일 1개)\n",
        "# 워크시트(sheet이라고 아래 여러개의 sheet을 만들 수 있음)\n",
        "# 셀(네모 칸 하나)"
      ],
      "metadata": {
        "id": "5Bg05RXiJpm2"
      },
      "execution_count": null,
      "outputs": []
    },
    {
      "cell_type": "code",
      "source": [
        "import xlsxwriter\n",
        "\n",
        "workbook = xlsxwriter.Workbook('hello.xlsx')\n",
        "worksheet = workbook.add_worksheet('test')\n",
        "\n",
        "worksheet.write('A1', 'A')\n",
        "worksheet.write('B1', 'B')\n",
        "worksheet.write('C1', 'C')\n",
        "worksheet.write('A2', 'D')\n",
        "worksheet.write('B2', 'E')\n",
        "worksheet.write('C2', 'F')\n",
        "\n",
        "worksheet.write(2, 0, 'hello')\n",
        "worksheet.write(2, 1, 'world')\n",
        "worksheet.write(2, 2, 'hojun')\n",
        "\n",
        "workbook.close()"
      ],
      "metadata": {
        "id": "nzQqZRiFKJt6"
      },
      "execution_count": null,
      "outputs": []
    },
    {
      "cell_type": "code",
      "source": [
        "import xlsxwriter\n",
        "\n",
        "workbook = xlsxwriter.Workbook('hello.xlsx')\n",
        "worksheet = workbook.add_worksheet('test')\n",
        "\n",
        "철수 = [10, 20, 30]\n",
        "영희 = [40, 50, 60]\n",
        "\n",
        "worksheet.write('A1', '국')\n",
        "worksheet.write('B1', '영')\n",
        "worksheet.write('C1', '수')\n",
        "worksheet.write('A2', 철수[0])\n",
        "worksheet.write('B2', 철수[1])\n",
        "worksheet.write('C2', 철수[2])\n",
        "worksheet.write('A3', 영희[0])\n",
        "worksheet.write('B3', 영희[1])\n",
        "worksheet.write('C3', 영희[2])\n",
        "\n",
        "for i in zip('ABC', 철수, 영희):\n",
        "    worksheet.write(f'{i[0]}4', i[1] + i[2])\n",
        "\n",
        "workbook.close()"
      ],
      "metadata": {
        "id": "arA9NSkTKs4o"
      },
      "execution_count": null,
      "outputs": []
    },
    {
      "cell_type": "code",
      "source": [
        "for i in zip('ABC', 철수, 영희):\n",
        "    print(f'{i[0]}4', i[1] + i[2])"
      ],
      "metadata": {
        "colab": {
          "base_uri": "https://localhost:8080/"
        },
        "id": "SBZxgIfQMQZb",
        "outputId": "7ff7a491-f908-4c2b-dc62-0925f9c894a7"
      },
      "execution_count": null,
      "outputs": [
        {
          "output_type": "stream",
          "name": "stdout",
          "text": [
            "A4 50\n",
            "B4 70\n",
            "C4 90\n"
          ]
        }
      ]
    },
    {
      "cell_type": "code",
      "source": [
        "import xlsxwriter\n",
        "\n",
        "workbook = xlsxwriter.Workbook('hello.xlsx')\n",
        "worksheet = workbook.add_worksheet('test')\n",
        "\n",
        "철수 = [10, 20, 30]\n",
        "영희 = [40, 50, 60]\n",
        "\n",
        "worksheet.write('A1', '국')\n",
        "worksheet.write('B1', '영')\n",
        "worksheet.write('C1', '수')\n",
        "worksheet.write('A2', 철수[0])\n",
        "worksheet.write('B2', 철수[1])\n",
        "worksheet.write('C2', 철수[2])\n",
        "worksheet.write('A3', 영희[0])\n",
        "worksheet.write('B3', 영희[1])\n",
        "worksheet.write('C3', 영희[2])\n",
        "\n",
        "for i in zip('ABC', 철수, 영희):\n",
        "    worksheet.write(f'{i[0]}4', i[1] + i[2])\n",
        "\n",
        "# D1에 평균 텍스트 삽입\n",
        "worksheet.write('D1', '평균')\n",
        "# 수식 삽입\n",
        "worksheet.write('D2', '=SUM(A2:C2)/3')\n",
        "worksheet.write('D3', '=SUM(A3:C3)/3')\n",
        "\n",
        "workbook.close()"
      ],
      "metadata": {
        "id": "9LEBsFgwM3DY"
      },
      "execution_count": null,
      "outputs": []
    },
    {
      "cell_type": "code",
      "source": [
        "# 크롤링\n",
        "# 웹크롤링 -> 엑셀\n",
        "# 한글파일 크롤링 -> 엑셀\n",
        "# PDF 크롤링 -> 엑셀\n",
        "\n",
        "# 파일 형식 변환\n",
        "# CSV => xlsx\n",
        "# JSON => xlsx\n",
        "\n",
        "# 메크로\n",
        "# 메크로 작동 로직 => 엑셀"
      ],
      "metadata": {
        "id": "WAS5ZqqxNoSe"
      },
      "execution_count": null,
      "outputs": []
    },
    {
      "cell_type": "code",
      "source": [
        "# 미션 3\n",
        "# html로 table로 정리하기\n",
        "\n",
        "db_data = [\n",
        "  {\n",
        "    \"_id\": \"7f5440ab-7e2f-4a42-Be13-89987fa65b32\",\n",
        "    \"index\": \"1\",\n",
        "    \"name\": \"등윤상\",\n",
        "    \"email\": \"user-qe89s09@ut.io\",\n",
        "    \"phone\": \"010-3542-7711\",\n",
        "    \"country\": \"키리바시\",\n",
        "    \"address\": \"방학로 74-9\",\n",
        "    \"job\": \"일러스트레이터\"\n",
        "  },\n",
        "  {\n",
        "    \"_id\": \"b4f7ade0-38bb-4e6f-B94a-18af1426eb30\",\n",
        "    \"index\": \"2\",\n",
        "    \"name\": \"노동규\",\n",
        "    \"email\": \"user-nyr5mqw@ornare.com\",\n",
        "    \"phone\": \"010-9743-6320\",\n",
        "    \"country\": \"베냉\",\n",
        "    \"address\": \"남부순환로 54-6\",\n",
        "    \"job\": \"애완동물미용사\"\n",
        "  },\n",
        "  {\n",
        "    \"_id\": \"5d788255-8d5e-4f03-B446-dbac6a147e37\",\n",
        "    \"index\": \"3\",\n",
        "    \"name\": \"경진아\",\n",
        "    \"email\": \"user-n7pey4v@Etiam.biz\",\n",
        "    \"phone\": \"010-4049-8718\",\n",
        "    \"country\": \"아르메니아\",\n",
        "    \"address\": \"강남대로 87-5\",\n",
        "    \"job\": \"플로리스트\"\n",
        "  },\n",
        "  {\n",
        "    \"_id\": \"083efce4-17ed-4e9f-Ad7c-f9aa0ac6cb79\",\n",
        "    \"index\": \"4\",\n",
        "    \"name\": \"복소유\",\n",
        "    \"email\": \"user-ohaz2is@nibh.biz\",\n",
        "    \"phone\": \"010-3400-5945\",\n",
        "    \"country\": \"페루\",\n",
        "    \"address\": \"양산로 78-1\",\n",
        "    \"job\": \"응급구조사\"\n",
        "  },\n",
        "  {\n",
        "    \"_id\": \"d54ce0fa-c025-4af6-Cd9a-b9d10aa8be5a\",\n",
        "    \"index\": \"5\",\n",
        "    \"name\": \"화예빈\",\n",
        "    \"email\": \"user-mnkpdlp@vel.net\",\n",
        "    \"phone\": \"010-3120-8720\",\n",
        "    \"country\": \"허드 및 맥도널드 제도\",\n",
        "    \"address\": \"한남대로 6-2\",\n",
        "    \"job\": \"전문의사\"\n",
        "  }\n",
        "]"
      ],
      "metadata": {
        "id": "iZ9MW70sOc8k"
      },
      "execution_count": null,
      "outputs": []
    },
    {
      "cell_type": "code",
      "source": [
        "db_data"
      ],
      "metadata": {
        "colab": {
          "base_uri": "https://localhost:8080/"
        },
        "id": "hcrgJrUPOlWg",
        "outputId": "142fb5b2-8be9-4754-959f-be5a107f8423"
      },
      "execution_count": null,
      "outputs": [
        {
          "output_type": "execute_result",
          "data": {
            "text/plain": [
              "[{'_id': '7f5440ab-7e2f-4a42-Be13-89987fa65b32',\n",
              "  'index': '1',\n",
              "  'name': '등윤상',\n",
              "  'email': 'user-qe89s09@ut.io',\n",
              "  'phone': '010-3542-7711',\n",
              "  'country': '키리바시',\n",
              "  'address': '방학로 74-9',\n",
              "  'job': '일러스트레이터'},\n",
              " {'_id': 'b4f7ade0-38bb-4e6f-B94a-18af1426eb30',\n",
              "  'index': '2',\n",
              "  'name': '노동규',\n",
              "  'email': 'user-nyr5mqw@ornare.com',\n",
              "  'phone': '010-9743-6320',\n",
              "  'country': '베냉',\n",
              "  'address': '남부순환로 54-6',\n",
              "  'job': '애완동물미용사'},\n",
              " {'_id': '5d788255-8d5e-4f03-B446-dbac6a147e37',\n",
              "  'index': '3',\n",
              "  'name': '경진아',\n",
              "  'email': 'user-n7pey4v@Etiam.biz',\n",
              "  'phone': '010-4049-8718',\n",
              "  'country': '아르메니아',\n",
              "  'address': '강남대로 87-5',\n",
              "  'job': '플로리스트'},\n",
              " {'_id': '083efce4-17ed-4e9f-Ad7c-f9aa0ac6cb79',\n",
              "  'index': '4',\n",
              "  'name': '복소유',\n",
              "  'email': 'user-ohaz2is@nibh.biz',\n",
              "  'phone': '010-3400-5945',\n",
              "  'country': '페루',\n",
              "  'address': '양산로 78-1',\n",
              "  'job': '응급구조사'},\n",
              " {'_id': 'd54ce0fa-c025-4af6-Cd9a-b9d10aa8be5a',\n",
              "  'index': '5',\n",
              "  'name': '화예빈',\n",
              "  'email': 'user-mnkpdlp@vel.net',\n",
              "  'phone': '010-3120-8720',\n",
              "  'country': '허드 및 맥도널드 제도',\n",
              "  'address': '한남대로 6-2',\n",
              "  'job': '전문의사'}]"
            ]
          },
          "metadata": {},
          "execution_count": 21
        }
      ]
    },
    {
      "cell_type": "code",
      "source": [
        "s = '''\n",
        "<style>\n",
        "    table {\n",
        "        border-collapse: collapse;\n",
        "        width: 100%;\n",
        "        border: 1px solid black;\n",
        "    }\n",
        "    tr, td, th {\n",
        "        border: 1px solid black;\n",
        "    }\n",
        "</style>\n",
        "<table>\n",
        "    <tr>\n",
        "        <th>아이디</th>\n",
        "        <th>인덱스</th>\n",
        "        <th>이름</th>\n",
        "        <th>이메일</th>\n",
        "        <th>휴대폰</th>\n",
        "        <th>나라</th>\n",
        "        <th>주소</th>\n",
        "        <th>직업</th>\n",
        "    </tr>\n",
        "'''\n",
        "\n",
        "for item in db_data:\n",
        "    s += f'''\n",
        "        <tr>\n",
        "                <td>{item[\"_id\"]}</td>\n",
        "                <td>{item[\"index\"]}</td>\n",
        "                <td>{item[\"name\"]}</td>\n",
        "                <td>{item[\"email\"]}</td>\n",
        "                <td>{item[\"phone\"]}</td>\n",
        "                <td>{item[\"country\"]}</td>\n",
        "                <td>{item[\"address\"]}</td>\n",
        "                <td>{item[\"job\"]}</td>\n",
        "        </tr>\n",
        "        '''\n",
        "s += '</table>'\n",
        "\n",
        "with open('test.html', 'w') as f:\n",
        "    f.write(s)"
      ],
      "metadata": {
        "id": "SQ5PT-p1Pv6v"
      },
      "execution_count": null,
      "outputs": []
    },
    {
      "cell_type": "code",
      "source": [
        "4s"
      ],
      "metadata": {
        "colab": {
          "base_uri": "https://localhost:8080/",
          "height": 218
        },
        "id": "VkJZ991YTikQ",
        "outputId": "430d128c-1879-417c-d506-d6defb7573c9"
      },
      "execution_count": null,
      "outputs": [
        {
          "output_type": "execute_result",
          "data": {
            "text/plain": [
              "'\\n<style>\\n    table {\\n        border-collapse: collapse;\\n        width: 100%;\\n        border: 1px solid black;\\n    }\\n    tr, td, th {\\n        border: 1px solid black;\\n    }\\n</style>\\n<table>\\n    <tr>\\n        <th>아이디</th>\\n        <th>인덱스</th>\\n        <th>이름</th>\\n        <th>이메일</th>\\n        <th>휴대폰</th>\\n        <th>나라</th>\\n        <th>주소</th>\\n        <th>직업</th>\\n    </tr>\\n\\n        <tr>\\n                <td>7f5440ab-7e2f-4a42-Be13-89987fa65b32</td>\\n                <td>1</td>\\n                <td>등윤상</td>\\n                <td>user-qe89s09@ut.io</td>\\n                <td>010-3542-7711</td>\\n                <td>키리바시</td>\\n                <td>방학로 74-9</td>\\n                <td>일러스트레이터</td>\\n        </tr>\\n        \\n        <tr>\\n                <td>b4f7ade0-38bb-4e6f-B94a-18af1426eb30</td>\\n                <td>2</td>\\n                <td>노동규</td>\\n                <td>user-nyr5mqw@ornare.com</td>\\n                <td>010-9743-6320</td>\\n                <td>베냉</td>\\n                <td>남부순환로 54-6</td>\\n                <td>애완동물미용사</td>\\n        </tr>\\n        \\n        <tr>\\n                <td>5d788255-8d5e-4f03-B446-dbac6a147e37</td>\\n                <td>3</td>\\n                <td>경진아</td>\\n                <td>user-n7pey4v@Etiam.biz</td>\\n                <td>010-4049-8718</td>\\n                <td>아르메니아</td>\\n                <td>강남대로 87-5</td>\\n                <td>플로리스트</td>\\n        </tr>\\n        \\n        <tr>\\n                <td>083efce4-17ed-4e9f-Ad7c-f9aa0ac6cb79</td>\\n                <td>4</td>\\n                <td>복소유</td>\\n                <td>user-ohaz2is@nibh.biz</td>\\n                <td>010-3400-5945</td>\\n                <td>페루</td>\\n                <td>양산로 78-1</td>\\n                <td>응급구조사</td>\\n        </tr>\\n        \\n        <tr>\\n                <td>d54ce0fa-c025-4af6-Cd9a-b9d10aa8be5a</td>\\n                <td>5</td>\\n                <td>화예빈</td>\\n                <td>user-mnkpdlp@vel.net</td>\\n                <td>010-3120-8720</td>\\n                <td>허드 및 맥도널드 제도</td>\\n                <td>한남대로 6-2</td>\\n                <td>전문의사</td>\\n        </tr>\\n        </table>'"
            ],
            "application/vnd.google.colaboratory.intrinsic+json": {
              "type": "string"
            }
          },
          "metadata": {},
          "execution_count": 31
        }
      ]
    },
    {
      "cell_type": "markdown",
      "source": [
        "### 파일 읽기"
      ],
      "metadata": {
        "id": "dj3WVRuTXcvb"
      }
    },
    {
      "cell_type": "code",
      "source": [
        "# 1. readline()\n",
        "\n",
        "f = open('test.html', 'r')\n",
        "while True:\n",
        "    line = f.readline()\n",
        "    if not line:\n",
        "        break\n",
        "    print(line, end='')\n",
        "f.close()\n",
        "\n",
        "# 아래 출력 결과에서 개행이 2번씩 되는 이유는 print에 end가 \\n이기 때문\n",
        "# print(line, end='')이면 개행을 한 번씩 하게 됨"
      ],
      "metadata": {
        "colab": {
          "base_uri": "https://localhost:8080/"
        },
        "id": "flSZ9cIRUG_q",
        "outputId": "976554fa-3c50-46f0-d46f-da37173a99ad"
      },
      "execution_count": null,
      "outputs": [
        {
          "output_type": "stream",
          "name": "stdout",
          "text": [
            "\n",
            "<style>\n",
            "    table {\n",
            "        border-collapse: collapse;\n",
            "        width: 100%;\n",
            "        border: 1px solid black;\n",
            "    }\n",
            "    tr, td, th {\n",
            "        border: 1px solid black;\n",
            "    }\n",
            "</style>\n",
            "<table>\n",
            "    <tr>\n",
            "        <th>아이디</th>\n",
            "        <th>인덱스</th>\n",
            "        <th>이름</th>\n",
            "        <th>이메일</th>\n",
            "        <th>휴대폰</th>\n",
            "        <th>나라</th>\n",
            "        <th>주소</th>\n",
            "        <th>직업</th>\n",
            "    </tr>\n",
            "\n",
            "        <tr>\n",
            "                <td>7f5440ab-7e2f-4a42-Be13-89987fa65b32</td>\n",
            "                <td>1</td>\n",
            "                <td>등윤상</td>\n",
            "                <td>user-qe89s09@ut.io</td>\n",
            "                <td>010-3542-7711</td>\n",
            "                <td>키리바시</td>\n",
            "                <td>방학로 74-9</td>\n",
            "                <td>일러스트레이터</td>\n",
            "        </tr>\n",
            "        \n",
            "        <tr>\n",
            "                <td>b4f7ade0-38bb-4e6f-B94a-18af1426eb30</td>\n",
            "                <td>2</td>\n",
            "                <td>노동규</td>\n",
            "                <td>user-nyr5mqw@ornare.com</td>\n",
            "                <td>010-9743-6320</td>\n",
            "                <td>베냉</td>\n",
            "                <td>남부순환로 54-6</td>\n",
            "                <td>애완동물미용사</td>\n",
            "        </tr>\n",
            "        \n",
            "        <tr>\n",
            "                <td>5d788255-8d5e-4f03-B446-dbac6a147e37</td>\n",
            "                <td>3</td>\n",
            "                <td>경진아</td>\n",
            "                <td>user-n7pey4v@Etiam.biz</td>\n",
            "                <td>010-4049-8718</td>\n",
            "                <td>아르메니아</td>\n",
            "                <td>강남대로 87-5</td>\n",
            "                <td>플로리스트</td>\n",
            "        </tr>\n",
            "        \n",
            "        <tr>\n",
            "                <td>083efce4-17ed-4e9f-Ad7c-f9aa0ac6cb79</td>\n",
            "                <td>4</td>\n",
            "                <td>복소유</td>\n",
            "                <td>user-ohaz2is@nibh.biz</td>\n",
            "                <td>010-3400-5945</td>\n",
            "                <td>페루</td>\n",
            "                <td>양산로 78-1</td>\n",
            "                <td>응급구조사</td>\n",
            "        </tr>\n",
            "        \n",
            "        <tr>\n",
            "                <td>d54ce0fa-c025-4af6-Cd9a-b9d10aa8be5a</td>\n",
            "                <td>5</td>\n",
            "                <td>화예빈</td>\n",
            "                <td>user-mnkpdlp@vel.net</td>\n",
            "                <td>010-3120-8720</td>\n",
            "                <td>허드 및 맥도널드 제도</td>\n",
            "                <td>한남대로 6-2</td>\n",
            "                <td>전문의사</td>\n",
            "        </tr>\n",
            "        </table>"
          ]
        }
      ]
    },
    {
      "cell_type": "code",
      "source": [
        "# 2. readlines()\n",
        "\n",
        "f = open('test.html', 'r')\n",
        "lines = f.readlines()\n",
        "for line in lines:\n",
        "    print(line)\n",
        "f.close()\n",
        "\n",
        "# readline은 파일의 텍스트 한 줄을 읽어오지만, readlines는 전체 라인을 읽어옴"
      ],
      "metadata": {
        "colab": {
          "base_uri": "https://localhost:8080/"
        },
        "id": "eC-xxUbHXMMp",
        "outputId": "928e565b-edfb-466c-e7f7-a2e7fdb17b26"
      },
      "execution_count": null,
      "outputs": [
        {
          "output_type": "stream",
          "name": "stdout",
          "text": [
            "\n",
            "\n",
            "<style>\n",
            "\n",
            "    table {\n",
            "\n",
            "        border-collapse: collapse;\n",
            "\n",
            "        width: 100%;\n",
            "\n",
            "        border: 1px solid black;\n",
            "\n",
            "    }\n",
            "\n",
            "    tr, td, th {\n",
            "\n",
            "        border: 1px solid black;\n",
            "\n",
            "    }\n",
            "\n",
            "</style>\n",
            "\n",
            "<table>\n",
            "\n",
            "    <tr>\n",
            "\n",
            "        <th>아이디</th>\n",
            "\n",
            "        <th>인덱스</th>\n",
            "\n",
            "        <th>이름</th>\n",
            "\n",
            "        <th>이메일</th>\n",
            "\n",
            "        <th>휴대폰</th>\n",
            "\n",
            "        <th>나라</th>\n",
            "\n",
            "        <th>주소</th>\n",
            "\n",
            "        <th>직업</th>\n",
            "\n",
            "    </tr>\n",
            "\n",
            "\n",
            "\n",
            "        <tr>\n",
            "\n",
            "                <td>7f5440ab-7e2f-4a42-Be13-89987fa65b32</td>\n",
            "\n",
            "                <td>1</td>\n",
            "\n",
            "                <td>등윤상</td>\n",
            "\n",
            "                <td>user-qe89s09@ut.io</td>\n",
            "\n",
            "                <td>010-3542-7711</td>\n",
            "\n",
            "                <td>키리바시</td>\n",
            "\n",
            "                <td>방학로 74-9</td>\n",
            "\n",
            "                <td>일러스트레이터</td>\n",
            "\n",
            "        </tr>\n",
            "\n",
            "        \n",
            "\n",
            "        <tr>\n",
            "\n",
            "                <td>b4f7ade0-38bb-4e6f-B94a-18af1426eb30</td>\n",
            "\n",
            "                <td>2</td>\n",
            "\n",
            "                <td>노동규</td>\n",
            "\n",
            "                <td>user-nyr5mqw@ornare.com</td>\n",
            "\n",
            "                <td>010-9743-6320</td>\n",
            "\n",
            "                <td>베냉</td>\n",
            "\n",
            "                <td>남부순환로 54-6</td>\n",
            "\n",
            "                <td>애완동물미용사</td>\n",
            "\n",
            "        </tr>\n",
            "\n",
            "        \n",
            "\n",
            "        <tr>\n",
            "\n",
            "                <td>5d788255-8d5e-4f03-B446-dbac6a147e37</td>\n",
            "\n",
            "                <td>3</td>\n",
            "\n",
            "                <td>경진아</td>\n",
            "\n",
            "                <td>user-n7pey4v@Etiam.biz</td>\n",
            "\n",
            "                <td>010-4049-8718</td>\n",
            "\n",
            "                <td>아르메니아</td>\n",
            "\n",
            "                <td>강남대로 87-5</td>\n",
            "\n",
            "                <td>플로리스트</td>\n",
            "\n",
            "        </tr>\n",
            "\n",
            "        \n",
            "\n",
            "        <tr>\n",
            "\n",
            "                <td>083efce4-17ed-4e9f-Ad7c-f9aa0ac6cb79</td>\n",
            "\n",
            "                <td>4</td>\n",
            "\n",
            "                <td>복소유</td>\n",
            "\n",
            "                <td>user-ohaz2is@nibh.biz</td>\n",
            "\n",
            "                <td>010-3400-5945</td>\n",
            "\n",
            "                <td>페루</td>\n",
            "\n",
            "                <td>양산로 78-1</td>\n",
            "\n",
            "                <td>응급구조사</td>\n",
            "\n",
            "        </tr>\n",
            "\n",
            "        \n",
            "\n",
            "        <tr>\n",
            "\n",
            "                <td>d54ce0fa-c025-4af6-Cd9a-b9d10aa8be5a</td>\n",
            "\n",
            "                <td>5</td>\n",
            "\n",
            "                <td>화예빈</td>\n",
            "\n",
            "                <td>user-mnkpdlp@vel.net</td>\n",
            "\n",
            "                <td>010-3120-8720</td>\n",
            "\n",
            "                <td>허드 및 맥도널드 제도</td>\n",
            "\n",
            "                <td>한남대로 6-2</td>\n",
            "\n",
            "                <td>전문의사</td>\n",
            "\n",
            "        </tr>\n",
            "\n",
            "        </table>\n"
          ]
        }
      ]
    },
    {
      "cell_type": "code",
      "source": [
        "# 3. read()\n",
        "\n",
        "f = open('test.html', 'r')\n",
        "data = f.read()\n",
        "print(data)\n",
        "f.close()\n",
        "\n",
        "# 파일의 전체 내용을 읽어올 수 있음"
      ],
      "metadata": {
        "colab": {
          "base_uri": "https://localhost:8080/"
        },
        "id": "xuxb8UJVX0wS",
        "outputId": "22e5eee6-eb17-4c70-d7e7-d34458eea0f7"
      },
      "execution_count": null,
      "outputs": [
        {
          "output_type": "stream",
          "name": "stdout",
          "text": [
            "\n",
            "<style>\n",
            "    table {\n",
            "        border-collapse: collapse;\n",
            "        width: 100%;\n",
            "        border: 1px solid black;\n",
            "    }\n",
            "    tr, td, th {\n",
            "        border: 1px solid black;\n",
            "    }\n",
            "</style>\n",
            "<table>\n",
            "    <tr>\n",
            "        <th>아이디</th>\n",
            "        <th>인덱스</th>\n",
            "        <th>이름</th>\n",
            "        <th>이메일</th>\n",
            "        <th>휴대폰</th>\n",
            "        <th>나라</th>\n",
            "        <th>주소</th>\n",
            "        <th>직업</th>\n",
            "    </tr>\n",
            "\n",
            "        <tr>\n",
            "                <td>7f5440ab-7e2f-4a42-Be13-89987fa65b32</td>\n",
            "                <td>1</td>\n",
            "                <td>등윤상</td>\n",
            "                <td>user-qe89s09@ut.io</td>\n",
            "                <td>010-3542-7711</td>\n",
            "                <td>키리바시</td>\n",
            "                <td>방학로 74-9</td>\n",
            "                <td>일러스트레이터</td>\n",
            "        </tr>\n",
            "        \n",
            "        <tr>\n",
            "                <td>b4f7ade0-38bb-4e6f-B94a-18af1426eb30</td>\n",
            "                <td>2</td>\n",
            "                <td>노동규</td>\n",
            "                <td>user-nyr5mqw@ornare.com</td>\n",
            "                <td>010-9743-6320</td>\n",
            "                <td>베냉</td>\n",
            "                <td>남부순환로 54-6</td>\n",
            "                <td>애완동물미용사</td>\n",
            "        </tr>\n",
            "        \n",
            "        <tr>\n",
            "                <td>5d788255-8d5e-4f03-B446-dbac6a147e37</td>\n",
            "                <td>3</td>\n",
            "                <td>경진아</td>\n",
            "                <td>user-n7pey4v@Etiam.biz</td>\n",
            "                <td>010-4049-8718</td>\n",
            "                <td>아르메니아</td>\n",
            "                <td>강남대로 87-5</td>\n",
            "                <td>플로리스트</td>\n",
            "        </tr>\n",
            "        \n",
            "        <tr>\n",
            "                <td>083efce4-17ed-4e9f-Ad7c-f9aa0ac6cb79</td>\n",
            "                <td>4</td>\n",
            "                <td>복소유</td>\n",
            "                <td>user-ohaz2is@nibh.biz</td>\n",
            "                <td>010-3400-5945</td>\n",
            "                <td>페루</td>\n",
            "                <td>양산로 78-1</td>\n",
            "                <td>응급구조사</td>\n",
            "        </tr>\n",
            "        \n",
            "        <tr>\n",
            "                <td>d54ce0fa-c025-4af6-Cd9a-b9d10aa8be5a</td>\n",
            "                <td>5</td>\n",
            "                <td>화예빈</td>\n",
            "                <td>user-mnkpdlp@vel.net</td>\n",
            "                <td>010-3120-8720</td>\n",
            "                <td>허드 및 맥도널드 제도</td>\n",
            "                <td>한남대로 6-2</td>\n",
            "                <td>전문의사</td>\n",
            "        </tr>\n",
            "        </table>\n"
          ]
        }
      ]
    },
    {
      "cell_type": "markdown",
      "source": [
        "### 내용 수정"
      ],
      "metadata": {
        "id": "Z04vJ-pHYYCh"
      }
    },
    {
      "cell_type": "code",
      "source": [
        "f = open('test.html', 'a')\n",
        "s = '<p>hello world!</p>'\n",
        "f.write(s)\n",
        "f.close()\n",
        "\n",
        "s"
      ],
      "metadata": {
        "id": "MxSvL3a3XYrB",
        "colab": {
          "base_uri": "https://localhost:8080/",
          "height": 35
        },
        "outputId": "9a04e725-fb65-4350-abf9-26ad09b5b3f5"
      },
      "execution_count": null,
      "outputs": [
        {
          "output_type": "execute_result",
          "data": {
            "text/plain": [
              "'<p>hello world!</p>'"
            ],
            "application/vnd.google.colaboratory.intrinsic+json": {
              "type": "string"
            }
          },
          "metadata": {},
          "execution_count": 40
        }
      ]
    },
    {
      "cell_type": "code",
      "source": [
        "# 파일 열기와 닫기를 동시에\n",
        "\n",
        "with open('test.html', 'w') as f:\n",
        "    f.write('hello world!')"
      ],
      "metadata": {
        "id": "lywhw99sYFom"
      },
      "execution_count": null,
      "outputs": []
    },
    {
      "cell_type": "code",
      "source": [],
      "metadata": {
        "id": "t7h5ziW5YsNQ"
      },
      "execution_count": null,
      "outputs": []
    }
  ]
}